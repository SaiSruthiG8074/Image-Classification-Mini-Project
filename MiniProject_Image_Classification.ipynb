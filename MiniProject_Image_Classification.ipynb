{
  "nbformat": 4,
  "nbformat_minor": 0,
  "metadata": {
    "colab": {
      "name": "MiniProject_Image Classification.ipynb",
      "provenance": [],
      "collapsed_sections": [],
      "authorship_tag": "ABX9TyOG1PFJr7mSmXUvEk9DO8lY",
      "include_colab_link": true
    },
    "kernelspec": {
      "name": "python3",
      "display_name": "Python 3"
    },
    "language_info": {
      "name": "python"
    }
  },
  "cells": [
    {
      "cell_type": "markdown",
      "metadata": {
        "id": "view-in-github",
        "colab_type": "text"
      },
      "source": [
        "<a href=\"https://colab.research.google.com/github/saisruthig/Image-Classification-Mini-Project/blob/main/MiniProject_Image_Classification.ipynb\" target=\"_parent\"><img src=\"https://colab.research.google.com/assets/colab-badge.svg\" alt=\"Open In Colab\"/></a>"
      ]
    },
    {
      "cell_type": "code",
      "metadata": {
        "colab": {
          "base_uri": "https://localhost:8080/"
        },
        "id": "-hlmQJpBPQL9",
        "outputId": "7862415d-9540-4ee5-97e4-cb6355d901b1"
      },
      "source": [
        "!pip install ipython-autotime\n",
        "%load_ext autotime"
      ],
      "execution_count": 6,
      "outputs": [
        {
          "output_type": "stream",
          "text": [
            "Collecting ipython-autotime\n",
            "  Downloading https://files.pythonhosted.org/packages/b4/c9/b413a24f759641bc27ef98c144b590023c8038dfb8a3f09e713e9dff12c1/ipython_autotime-0.3.1-py2.py3-none-any.whl\n",
            "Requirement already satisfied: ipython in /usr/local/lib/python3.7/dist-packages (from ipython-autotime) (5.5.0)\n",
            "Requirement already satisfied: pygments in /usr/local/lib/python3.7/dist-packages (from ipython->ipython-autotime) (2.6.1)\n",
            "Requirement already satisfied: simplegeneric>0.8 in /usr/local/lib/python3.7/dist-packages (from ipython->ipython-autotime) (0.8.1)\n",
            "Requirement already satisfied: traitlets>=4.2 in /usr/local/lib/python3.7/dist-packages (from ipython->ipython-autotime) (5.0.5)\n",
            "Requirement already satisfied: decorator in /usr/local/lib/python3.7/dist-packages (from ipython->ipython-autotime) (4.4.2)\n",
            "Requirement already satisfied: prompt-toolkit<2.0.0,>=1.0.4 in /usr/local/lib/python3.7/dist-packages (from ipython->ipython-autotime) (1.0.18)\n",
            "Requirement already satisfied: pickleshare in /usr/local/lib/python3.7/dist-packages (from ipython->ipython-autotime) (0.7.5)\n",
            "Requirement already satisfied: pexpect; sys_platform != \"win32\" in /usr/local/lib/python3.7/dist-packages (from ipython->ipython-autotime) (4.8.0)\n",
            "Requirement already satisfied: setuptools>=18.5 in /usr/local/lib/python3.7/dist-packages (from ipython->ipython-autotime) (57.0.0)\n",
            "Requirement already satisfied: ipython-genutils in /usr/local/lib/python3.7/dist-packages (from traitlets>=4.2->ipython->ipython-autotime) (0.2.0)\n",
            "Requirement already satisfied: wcwidth in /usr/local/lib/python3.7/dist-packages (from prompt-toolkit<2.0.0,>=1.0.4->ipython->ipython-autotime) (0.2.5)\n",
            "Requirement already satisfied: six>=1.9.0 in /usr/local/lib/python3.7/dist-packages (from prompt-toolkit<2.0.0,>=1.0.4->ipython->ipython-autotime) (1.15.0)\n",
            "Requirement already satisfied: ptyprocess>=0.5 in /usr/local/lib/python3.7/dist-packages (from pexpect; sys_platform != \"win32\"->ipython->ipython-autotime) (0.7.0)\n",
            "Installing collected packages: ipython-autotime\n",
            "Successfully installed ipython-autotime-0.3.1\n",
            "time: 193 µs (started: 2021-06-16 09:54:02 +00:00)\n"
          ],
          "name": "stdout"
        }
      ]
    },
    {
      "cell_type": "code",
      "metadata": {
        "colab": {
          "base_uri": "https://localhost:8080/"
        },
        "id": "1p6lic15L8Fh",
        "outputId": "ee45bcd5-6c8e-4bc0-f277-9931dd346006"
      },
      "source": [
        "!pip install bing-image-downloader"
      ],
      "execution_count": 1,
      "outputs": [
        {
          "output_type": "stream",
          "text": [
            "Collecting bing-image-downloader\n",
            "  Downloading https://files.pythonhosted.org/packages/2c/f9/e827c690d0df1ec2f2f27cf0fb3d1f944c5c56253f8d3750ccaff051b3d3/bing_image_downloader-1.1.0-py3-none-any.whl\n",
            "Installing collected packages: bing-image-downloader\n",
            "Successfully installed bing-image-downloader-1.1.0\n"
          ],
          "name": "stdout"
        }
      ]
    },
    {
      "cell_type": "code",
      "metadata": {
        "colab": {
          "base_uri": "https://localhost:8080/"
        },
        "id": "57BYGUtcMRNQ",
        "outputId": "bdb60037-87f1-43e5-e7cc-1ecca01d89f9"
      },
      "source": [
        "!mkdir images\n",
        "from bing_image_downloader import downloader\n",
        "downloader.download(\"kiwi fruit\",limit=30,output_dir='images',adult_filter_off=True)"
      ],
      "execution_count": 2,
      "outputs": [
        {
          "output_type": "stream",
          "text": [
            "[%] Downloading Images to /content/images/kiwi fruit\n",
            "\n",
            "\n",
            "[!!]Indexing page: 1\n",
            "\n",
            "[%] Indexed 30 Images on Page 1.\n",
            "\n",
            "===============================================\n",
            "\n",
            "[%] Downloading Image #1 from https://myaviationfitness.com/wp-content/uploads/2020/08/pexels-pixabay-51312-1024x681.jpg\n",
            "[!] Issue getting: https://myaviationfitness.com/wp-content/uploads/2020/08/pexels-pixabay-51312-1024x681.jpg\n",
            "[!] Error:: <urlopen error [Errno -2] Name or service not known>\n",
            "[%] Downloading Image #1 from http://2.bp.blogspot.com/-JeSR60toUUk/Ty6acQK0fiI/AAAAAAAAAlI/IcpsTOd4tbw/s1600/Intrinsically+-+Kiwi+fruit+slice.jpg\n",
            "[%] File Downloaded !\n",
            "\n",
            "[%] Downloading Image #2 from https://suzycohen.com/wp-content/uploads/2018/06/kiwi-1200x822.jpg\n",
            "[%] File Downloaded !\n",
            "\n",
            "[%] Downloading Image #3 from https://i1.wp.com/consciouslifenews.com/wp-content/uploads/2016/02/kiwi-fruit-compressed.jpg?resize=680%2C380&amp;ssl=1\n",
            "[%] File Downloaded !\n",
            "\n",
            "[%] Downloading Image #4 from https://i.pinimg.com/originals/98/ac/dd/98acdd9e416a2dc6d6924a71167dac31.jpg\n",
            "[%] File Downloaded !\n",
            "\n",
            "[%] Downloading Image #5 from https://www.healthsupplementadvisor.com/wp-content/uploads/2016/03/What-are-the-benefits-of-kiwi-fruit-1024x649.jpg\n",
            "[%] File Downloaded !\n",
            "\n",
            "[%] Downloading Image #6 from https://wnutrition.net/wp-content/uploads/2020/09/kiwi-2-1.jpg\n",
            "[%] File Downloaded !\n",
            "\n",
            "[%] Downloading Image #7 from https://www.maxpixels.net/static/photo/1x/Kiwi-Disc-Fresh-Fruit-Transmitted-Light-Green-1143717.jpg\n",
            "[%] File Downloaded !\n",
            "\n",
            "[%] Downloading Image #8 from https://i.pinimg.com/originals/28/25/90/282590d73aaf478c39820b85919a63d6.jpg\n",
            "[%] File Downloaded !\n",
            "\n",
            "[%] Downloading Image #9 from https://fullfact.org/media/_versions/hfagt9_19_jan_2021_social_media.jpg\n",
            "[%] File Downloaded !\n",
            "\n",
            "[%] Downloading Image #10 from https://i.pinimg.com/originals/d3/a6/e7/d3a6e75e42e8eac734e474574d319673.jpg\n",
            "[%] File Downloaded !\n",
            "\n",
            "[%] Downloading Image #11 from https://i.pinimg.com/originals/96/8c/8b/968c8b58ec50fb57c48293e051520058.jpg\n",
            "[%] File Downloaded !\n",
            "\n",
            "[%] Downloading Image #12 from https://wnutrition.net/wp-content/uploads/2020/09/kiwi-1.jpeg\n",
            "[%] File Downloaded !\n",
            "\n",
            "[%] Downloading Image #13 from https://www.maxpixels.net/static/photo/640/Fruit-Ripe-Healthy-Kiwi-Eat-Fruits-Vitamins-3170652.jpg\n",
            "[%] File Downloaded !\n",
            "\n",
            "[%] Downloading Image #14 from http://oscar.kiwi/uploads/2019/03/PR_S_01621.jpg\n",
            "[%] File Downloaded !\n",
            "\n",
            "[%] Downloading Image #15 from http://cdn2.shopify.com/s/files/1/1630/6579/products/shutterstock_78486910_800x.jpg?v=1523932993\n",
            "[%] File Downloaded !\n",
            "\n",
            "[%] Downloading Image #16 from https://i.pinimg.com/736x/af/15/d6/af15d6f7593e64f2dc09e3e05f116d82.jpg\n",
            "[%] File Downloaded !\n",
            "\n",
            "[%] Downloading Image #17 from https://i.pinimg.com/originals/7b/bd/ad/7bbdad81686324d54e85e30aa5560811.jpg\n",
            "[%] File Downloaded !\n",
            "\n",
            "[%] Downloading Image #18 from https://i.ebayimg.com/images/g/HWoAAOSwNkxa4wmz/s-l640.jpg\n",
            "[%] File Downloaded !\n",
            "\n",
            "[%] Downloading Image #19 from https://i.pinimg.com/originals/8d/46/90/8d4690680e3225e211f89177475d75f7.jpg\n",
            "[%] File Downloaded !\n",
            "\n",
            "[%] Downloading Image #20 from https://cdn.thetruthaboutcancer.com/wp-content/uploads/20190125172039/kiwi-fruit-Health-Benefits.jpg\n",
            "[%] File Downloaded !\n",
            "\n",
            "[%] Downloading Image #21 from https://i.pinimg.com/originals/c5/c7/d6/c5c7d6162d9dbc5e2bdc564dcc50eea4.png\n",
            "[%] File Downloaded !\n",
            "\n",
            "[%] Downloading Image #22 from https://www.maxpixels.net/static/photo/640/Fruit-Kiwi-Fruits-Food-Benefit-From-Delicious-1765959.jpg\n",
            "[%] File Downloaded !\n",
            "\n",
            "[%] Downloading Image #23 from https://cdn.britannica.com/45/126445-004-90305E10/Kiwi-fruit.jpg\n",
            "[%] File Downloaded !\n",
            "\n",
            "[%] Downloading Image #24 from https://i.pinimg.com/originals/a4/80/65/a48065f9437d0cca32b372ebf3eaf5db.jpg\n",
            "[%] File Downloaded !\n",
            "\n",
            "[%] Downloading Image #25 from https://media.buzzle.com/media/images-en/gallery/fruits/1200-467228765-kiwi.jpg\n",
            "[%] File Downloaded !\n",
            "\n",
            "[%] Downloading Image #26 from https://upload.wikimedia.org/wikipedia/commons/9/90/Kiwi_core.jpg\n",
            "[%] File Downloaded !\n",
            "\n",
            "[%] Downloading Image #27 from https://www.maxpixel.net/static/photo/1x/Vitamins-Fresh-Nature-Green-Pips-Fruit-Kiwi-2201090.png\n",
            "[%] File Downloaded !\n",
            "\n",
            "[%] Downloading Image #28 from https://www.ambius.com/blog/wp-content/uploads/2019/07/GettyImages-472635712.jpg\n",
            "[%] File Downloaded !\n",
            "\n",
            "[%] Downloading Image #29 from http://www.leereich.com/wp-content/uploads/2014/01/Hardy-kiwi-fruit-in-late-summer.jpg\n",
            "[%] File Downloaded !\n",
            "\n",
            "\n",
            "\n",
            "[!!]Indexing page: 2\n",
            "\n",
            "[%] Indexed 35 Images on Page 2.\n",
            "\n",
            "===============================================\n",
            "\n",
            "[%] Downloading Image #30 from https://myaviationfitness.com/wp-content/uploads/2020/08/pexels-pixabay-51312-1024x681.jpg\n",
            "[!] Issue getting: https://myaviationfitness.com/wp-content/uploads/2020/08/pexels-pixabay-51312-1024x681.jpg\n",
            "[!] Error:: <urlopen error [Errno -2] Name or service not known>\n",
            "[%] Downloading Image #30 from http://2.bp.blogspot.com/-JeSR60toUUk/Ty6acQK0fiI/AAAAAAAAAlI/IcpsTOd4tbw/s1600/Intrinsically+-+Kiwi+fruit+slice.jpg\n",
            "[%] File Downloaded !\n",
            "\n",
            "\n",
            "\n",
            "[%] Done. Downloaded 30 images.\n",
            "===============================================\n",
            "\n",
            "Please show your support here\n",
            "https://www.buymeacoffee.com/gurugaurav\n",
            "\n",
            "===============================================\n",
            "\n"
          ],
          "name": "stdout"
        }
      ]
    },
    {
      "cell_type": "code",
      "metadata": {
        "colab": {
          "base_uri": "https://localhost:8080/"
        },
        "id": "hQnFSjR-N2BB",
        "outputId": "c35d7d9a-0da5-4eed-f96c-001c0ac82071"
      },
      "source": [
        "from bing_image_downloader import downloader\n",
        "downloader.download(\"red cricket ball\",limit=30,output_dir='images',adult_filter_off=True)"
      ],
      "execution_count": 3,
      "outputs": [
        {
          "output_type": "stream",
          "text": [
            "[%] Downloading Images to /content/images/red cricket ball\n",
            "\n",
            "\n",
            "[!!]Indexing page: 1\n",
            "\n",
            "[%] Indexed 30 Images on Page 1.\n",
            "\n",
            "===============================================\n",
            "\n",
            "[%] Downloading Image #1 from https://n4.sdlcdn.com/imgs/j/l/q/Vikas-Sports-SS-Club-Red-SDL074900205-2-c9080.jpg\n",
            "[%] File Downloaded !\n",
            "\n",
            "[%] Downloading Image #2 from https://n3.sdlcdn.com/imgs/h/k/d/Club-Red-Leather-Cricket-Ball-SDL401164071-2-15472.jpeg\n",
            "[%] File Downloaded !\n",
            "\n",
            "[%] Downloading Image #3 from https://n4.sdlcdn.com/imgs/g/2/e/Yorker-Red-Leather-Cricket-Ball-SDL078066487-2-81ea8.jpeg\n",
            "[%] File Downloaded !\n",
            "\n",
            "[%] Downloading Image #4 from https://5.imimg.com/data5/SELLER/Default/2020/8/AA/IL/QR/4931499/sf-true-test-red-leather-cricket-ball-500x500.png\n",
            "[%] File Downloaded !\n",
            "\n",
            "[%] Downloading Image #5 from https://n1.sdlcdn.com/imgs/h/l/g/Club-Red-Leather-Cricket-Ball-SDL009818979-2-ee5ba.jpeg\n",
            "[%] File Downloaded !\n",
            "\n",
            "[%] Downloading Image #6 from https://i.ebayimg.com/images/g/jKMAAOSwN8Jeb1kB/s-l640.jpg\n",
            "[%] File Downloaded !\n",
            "\n",
            "[%] Downloading Image #7 from https://n1.sdlcdn.com/imgs/i/h/h/Port-Club-Red-Cricket-Ball-SDL830456501-1-e8f3d.jpeg\n",
            "[%] File Downloaded !\n",
            "\n",
            "[%] Downloading Image #8 from https://n4.sdlcdn.com/imgs/f/m/v/Port-Red-Club-Cricket-Ball-SDL118832816-1-6b849.jpeg\n",
            "[%] File Downloaded !\n",
            "\n",
            "[%] Downloading Image #9 from https://n1.sdlcdn.com/imgs/h/k/d/Club-Red-Leather-Cricket-Ball-SDL401164071-3-23805.jpeg\n",
            "[%] File Downloaded !\n",
            "\n",
            "[%] Downloading Image #10 from https://n4.sdlcdn.com/imgs/h/i/w/S-M-4-PIECE-LEATHER-SDL765152064-2-f3a00.jpeg\n",
            "[%] File Downloaded !\n",
            "\n",
            "[%] Downloading Image #11 from https://i.ebayimg.com/images/i/262596692228-0-1/s-l1000.jpg\n",
            "[%] File Downloaded !\n",
            "\n",
            "[%] Downloading Image #12 from https://www.sportsuncle.com/image/cache/catalog/images/ss/true-test-800x800.jpg\n",
            "[%] File Downloaded !\n",
            "\n",
            "[%] Downloading Image #13 from https://i.ebayimg.com/images/g/4~0AAOSwszVeIETv/s-l640.jpg\n",
            "[%] File Downloaded !\n",
            "\n",
            "[%] Downloading Image #14 from https://n4.sdlcdn.com/imgs/i/g/v/PIXLTOUCH-SG-Club-Leather-Cricket-SDL152269434-1-1daea.jpeg\n",
            "[%] File Downloaded !\n",
            "\n",
            "[%] Downloading Image #15 from https://i.ebayimg.com/images/g/azEAAOSwt~dgCWGf/s-l640.jpg\n",
            "[%] File Downloaded !\n",
            "\n",
            "[%] Downloading Image #16 from https://n3.sdlcdn.com/imgs/h/s/w/SVR-Cricket-Leather-Balls-in-SDL819249741-4-7312e.jpg\n",
            "[%] File Downloaded !\n",
            "\n",
            "[%] Downloading Image #17 from https://n1.sdlcdn.com/imgs/b/x/k/Dattason-Red-Cricket-Balls-Set-SDL136184851-1-6601c.jpg\n",
            "[%] File Downloaded !\n",
            "\n",
            "[%] Downloading Image #18 from https://n1.sdlcdn.com/imgs/h/m/d/MPRT-2-piece-leather-ball-SDL329758749-1-1c4a6.jpeg\n",
            "[%] File Downloaded !\n",
            "\n",
            "[%] Downloading Image #19 from https://www.sports91.com/wp-content/uploads/2019/04/5bbaf19632ed6dfeb55e5204.jpg\n",
            "[%] File Downloaded !\n",
            "\n",
            "[%] Downloading Image #20 from https://i.ebayimg.com/images/g/IPoAAOSwUWtcPH5p/s-l640.jpg\n",
            "[%] File Downloaded !\n",
            "\n",
            "[%] Downloading Image #21 from https://n2.sdlcdn.com/imgs/g/8/t/PK-Sterling-Heavy-weight-cricket-SDL974383100-1-78ee2.jpeg\n",
            "[%] File Downloaded !\n",
            "\n",
            "[%] Downloading Image #22 from https://n1.sdlcdn.com/imgs/h/b/v/AkshMall-Red-Cricket-Tennis-Ball-SDL999456795-1-82164.jpeg\n",
            "[%] File Downloaded !\n",
            "\n",
            "[%] Downloading Image #23 from https://n4.sdlcdn.com/imgs/h/s/w/SVR-Cricket-Leather-Balls-in-SDL819249741-3-5c057.jpg\n",
            "[%] File Downloaded !\n",
            "\n",
            "[%] Downloading Image #24 from https://i.ebayimg.com/images/g/IIgAAOSwmLlX-vt8/s-l400.jpg\n",
            "[%] File Downloaded !\n",
            "\n",
            "[%] Downloading Image #25 from https://i.ebayimg.com/images/g/OE0AAOSwzRZfLpmo/s-l640.jpg\n",
            "[%] File Downloaded !\n",
            "\n",
            "[%] Downloading Image #26 from https://n1.sdlcdn.com/imgs/h/n/e/Yorker-Red-Leather-Cricket-Balls-SDL080937815-1-4c210.jpeg\n",
            "[%] File Downloaded !\n",
            "\n",
            "[%] Downloading Image #27 from https://i.ebayimg.com/images/g/smgAAOSwPf1el-B1/s-l640.jpg\n",
            "[%] File Downloaded !\n",
            "\n",
            "[%] Downloading Image #28 from https://n2.sdlcdn.com/imgs/h/m/d/MPRT-2-piece-leather-ball-SDL329758749-3-18d43.jpeg\n",
            "[%] File Downloaded !\n",
            "\n",
            "[%] Downloading Image #29 from https://www.khelmart.com/Cricket/zoomer_Image/SS_CB_000071_large.jpg\n",
            "[%] File Downloaded !\n",
            "\n",
            "[%] Downloading Image #30 from https://i.ebayimg.com/images/g/D2QAAOSwOnJcNzrN/s-l640.jpg\n",
            "[%] File Downloaded !\n",
            "\n",
            "\n",
            "\n",
            "[%] Done. Downloaded 30 images.\n",
            "===============================================\n",
            "\n",
            "Please show your support here\n",
            "https://www.buymeacoffee.com/gurugaurav\n",
            "\n",
            "===============================================\n",
            "\n"
          ],
          "name": "stdout"
        }
      ]
    },
    {
      "cell_type": "code",
      "metadata": {
        "colab": {
          "base_uri": "https://localhost:8080/"
        },
        "id": "TwzfgJqbOjWc",
        "outputId": "805bbec4-50eb-4744-b074-daba7a169101"
      },
      "source": [
        "from bing_image_downloader import downloader\n",
        "downloader.download(\"snow man\",limit=30,output_dir='images',adult_filter_off=True)"
      ],
      "execution_count": 4,
      "outputs": [
        {
          "output_type": "stream",
          "text": [
            "[%] Downloading Images to /content/images/snow man\n",
            "\n",
            "\n",
            "[!!]Indexing page: 1\n",
            "\n",
            "[%] Indexed 30 Images on Page 1.\n",
            "\n",
            "===============================================\n",
            "\n",
            "[%] Downloading Image #1 from https://www.rd.com/wp-content/uploads/2018/11/snowman.jpg\n",
            "[%] File Downloaded !\n",
            "\n",
            "[%] Downloading Image #2 from https://www.rd.com/wp-content/uploads/2016/12/06_how_build_perfect_snowman_best_practices_decorations_tatyana_tomsickova.jpg\n",
            "[%] File Downloaded !\n",
            "\n",
            "[%] Downloading Image #3 from https://imgix.bustle.com/uploads/image/2017/10/20/c918a078-e2c5-487d-a1b0-dc9d3991907b-screen-shot-2017-10-20-at-22603-pm-1.png?w=646&amp;fit=max&amp;auto=format&amp;q=70\n",
            "[%] File Downloaded !\n",
            "\n",
            "[%] Downloading Image #4 from http://media.timeout.com/images/101795873/image.jpg\n",
            "[%] File Downloaded !\n",
            "\n",
            "[%] Downloading Image #5 from https://www.vmcdn.ca/f/files/collingwoodtoday/images/charity/image-(5).png;w=960;h=640;bgcolor=000000\n",
            "[%] File Downloaded !\n",
            "\n",
            "[%] Downloading Image #6 from https://i.pinimg.com/originals/cf/4f/17/cf4f17719baa91f4d714330a8a14d12b.jpg\n",
            "[%] File Downloaded !\n",
            "\n",
            "[%] Downloading Image #7 from https://c1.staticflickr.com/5/4045/4387667204_58a4d15406_b.jpg\n",
            "[%] File Downloaded !\n",
            "\n",
            "[%] Downloading Image #8 from https://cdn.newswire.com/files/x/2a/af/94ddbad14cee9112392f6e47f370.jpg\n",
            "[%] File Downloaded !\n",
            "\n",
            "[%] Downloading Image #9 from https://www.albawaba.com/sites/default/files/styles/default/public/im/D2Z5bVeW0AAFnwy.jpg?itok=8el8aPDO\n",
            "[%] File Downloaded !\n",
            "\n",
            "[%] Downloading Image #10 from https://i.ytimg.com/vi/Iigro63M2JE/maxresdefault.jpg\n",
            "[%] File Downloaded !\n",
            "\n",
            "[%] Downloading Image #11 from https://shutupimtalking.com/wp-content/uploads/2013/04/ScarySnowman1.jpg\n",
            "[%] File Downloaded !\n",
            "\n",
            "[%] Downloading Image #12 from https://images2.minutemediacdn.com/image/upload/c_fit,f_auto,fl_lossy,q_auto,w_728/v1555920222/shape/mentalfloss/2592floridasnowman.jpg?itok=GLp_DC7K\n",
            "[%] File Downloaded !\n",
            "\n",
            "[%] Downloading Image #13 from http://traviswright.com/wp-content/uploads/2013/02/cous71.jpg\n",
            "[%] File Downloaded !\n",
            "\n",
            "[%] Downloading Image #14 from https://i.pinimg.com/originals/b9/12/dd/b912dd3665018c094fc665addf8f5e16.jpg\n",
            "[%] File Downloaded !\n",
            "\n",
            "[%] Downloading Image #15 from http://trueviewreviews.com/2014/wp-content/uploads/2017/10/the-snowman-2017-michael-fassbender-1024x563.png\n",
            "[%] File Downloaded !\n",
            "\n",
            "[%] Downloading Image #16 from https://i.ytimg.com/vi/E6RQD7KSAV8/maxresdefault.jpg\n",
            "[%] File Downloaded !\n",
            "\n",
            "[%] Downloading Image #17 from https://i.cbc.ca/1.4439924.1512756911!/fileImage/httpImage/image.jpg_gen/derivatives/16x9_780/yeti-actors.jpg\n",
            "[%] File Downloaded !\n",
            "\n",
            "[%] Downloading Image #18 from https://i.pinimg.com/originals/83/cc/25/83cc256e831d0b50138ca61e4b1aa3f7.jpg\n",
            "[%] File Downloaded !\n",
            "\n",
            "[%] Downloading Image #19 from https://i.pinimg.com/originals/43/c1/ab/43c1abeded209fef6ca83d065a093b0c.jpg\n",
            "[%] File Downloaded !\n",
            "\n",
            "[%] Downloading Image #20 from https://cdn.wallpapersafari.com/16/46/E3P28U.png\n",
            "[%] File Downloaded !\n",
            "\n",
            "[%] Downloading Image #21 from https://2.bp.blogspot.com/-dpV_6jGBgOA/TvPFJJVT4OI/AAAAAAAAAR4/NWQTmUv58LA/s1600/Bunny+absorbed.jpg\n",
            "[%] File Downloaded !\n",
            "\n",
            "[%] Downloading Image #22 from https://i1.wp.com/www.mummyinthecity.com/wp-content/uploads/2017/11/The-Snowman-Walking-in-the-Air.jpg?resize=620%2C350&amp;ssl=1\n",
            "[%] File Downloaded !\n",
            "\n",
            "[%] Downloading Image #23 from https://i.ebayimg.com/images/g/hhAAAOSwo-RZua4e/s-l300.jpg\n",
            "[%] File Downloaded !\n",
            "\n",
            "[%] Downloading Image #24 from http://4.bp.blogspot.com/-S7gi-eWEtjY/TuI7krF0vXI/AAAAAAAABis/8tOwwyCLEI4/s1600/The+Snowman+Movie.JPG\n",
            "[%] File Downloaded !\n",
            "\n",
            "[%] Downloading Image #25 from https://2.bp.blogspot.com/-QEVYrlySTTo/WeybV1GyAFI/AAAAAAAAA58/KEYC_wTYHkc-RzzZdQ8SCh1y2AKaMZ8ywCLcBGAs/s1600/BANNER%2B2.jpg\n",
            "[%] File Downloaded !\n",
            "\n",
            "[%] Downloading Image #26 from https://i.gr-assets.com/images/S/compressed.photo.goodreads.com/books/1465732395i/29359058._UY630_SR1200,630_.jpg\n",
            "[%] File Downloaded !\n",
            "\n",
            "[%] Downloading Image #27 from https://64.media.tumblr.com/cb264765a299f39073a04c712269e46b/tumblr_odi5pavJY81vak7j2o3_1280.jpg\n",
            "[Error]Invalid image, not saving https://64.media.tumblr.com/cb264765a299f39073a04c712269e46b/tumblr_odi5pavJY81vak7j2o3_1280.jpg\n",
            "\n",
            "[!] Issue getting: https://64.media.tumblr.com/cb264765a299f39073a04c712269e46b/tumblr_odi5pavJY81vak7j2o3_1280.jpg\n",
            "[!] Error:: Invalid image, not saving https://64.media.tumblr.com/cb264765a299f39073a04c712269e46b/tumblr_odi5pavJY81vak7j2o3_1280.jpg\n",
            "\n",
            "[%] Downloading Image #27 from https://a.wattpad.com/cover/57232588-256-k373388.jpg\n",
            "[%] File Downloaded !\n",
            "\n",
            "[%] Downloading Image #28 from http://2.bp.blogspot.com/-yfNhXiA7nkE/TvPEccTsVKI/AAAAAAAAARs/CXVwuDIDnw4/s1600/bunny.jpg\n",
            "[%] File Downloaded !\n",
            "\n",
            "[%] Downloading Image #29 from http://s4827.pcdn.co/wp-content/uploads/2016/12/happy_snowman_iPad.jpg\n",
            "[!] Issue getting: http://s4827.pcdn.co/wp-content/uploads/2016/12/happy_snowman_iPad.jpg\n",
            "[!] Error:: HTTP Error 404: Not Found\n",
            "\n",
            "\n",
            "[!!]Indexing page: 2\n",
            "\n",
            "[%] Indexed 35 Images on Page 2.\n",
            "\n",
            "===============================================\n",
            "\n",
            "[%] Downloading Image #29 from https://www.rd.com/wp-content/uploads/2018/11/snowman.jpg\n",
            "[%] File Downloaded !\n",
            "\n",
            "[%] Downloading Image #30 from https://www.rd.com/wp-content/uploads/2016/12/06_how_build_perfect_snowman_best_practices_decorations_tatyana_tomsickova.jpg\n",
            "[%] File Downloaded !\n",
            "\n",
            "\n",
            "\n",
            "[%] Done. Downloaded 30 images.\n",
            "===============================================\n",
            "\n",
            "Please show your support here\n",
            "https://www.buymeacoffee.com/gurugaurav\n",
            "\n",
            "===============================================\n",
            "\n"
          ],
          "name": "stdout"
        }
      ]
    },
    {
      "cell_type": "code",
      "metadata": {
        "colab": {
          "base_uri": "https://localhost:8080/"
        },
        "id": "RUNDA-OGPybq",
        "outputId": "931910b0-2ca5-4eaf-a3f7-00a012920c8a"
      },
      "source": [
        "#Preprocesssing\n",
        "import os \n",
        "import matplotlib.pyplot as plt\n",
        "import pandas as pd\n",
        "import cv2\n",
        "import numpy as np\n",
        "from skimage.io import imread\n",
        "from skimage.transform import resize\n",
        "\n",
        "target = []\n",
        "images = []\n",
        "flat_data = []\n",
        "\n",
        "DATADIR = '/content/images'\n",
        "CATEGORIES = ['kiwi fruit','red cricket ball','snow man']\n",
        "\n",
        "for i in CATEGORIES:\n",
        "  class_target = CATEGORIES.index(i)\n",
        "  path = os.path.join(DATADIR,i)\n",
        "  for img in os.listdir(path):\n",
        "    img_array = imread(os.path.join(path,img))\n",
        "    img_resized = resize(img_array,(150,150,3))#Normalizes the value from 0 to 1\n",
        "    flat_data.append(img_resized.flatten())\n",
        "    images.append(img_resized)\n",
        "    target.append(class_target)\n",
        "    \n",
        "\n",
        "flat_data = np.array(flat_data)    \n",
        "target = np.array(target)\n",
        "images = np.array(images)"
      ],
      "execution_count": 11,
      "outputs": [
        {
          "output_type": "stream",
          "text": [
            "time: 16.8 s (started: 2021-06-16 10:13:54 +00:00)\n"
          ],
          "name": "stdout"
        }
      ]
    },
    {
      "cell_type": "code",
      "metadata": {
        "colab": {
          "base_uri": "https://localhost:8080/",
          "height": 453
        },
        "id": "PvyrM2s7Tf7U",
        "outputId": "85d4f00f-10a9-448e-f4f3-e8dc60d8044e"
      },
      "source": [
        "df = pd.DataFrame(flat_data)\n",
        "df['Target'] = target\n",
        "df"
      ],
      "execution_count": 12,
      "outputs": [
        {
          "output_type": "execute_result",
          "data": {
            "text/html": [
              "<div>\n",
              "<style scoped>\n",
              "    .dataframe tbody tr th:only-of-type {\n",
              "        vertical-align: middle;\n",
              "    }\n",
              "\n",
              "    .dataframe tbody tr th {\n",
              "        vertical-align: top;\n",
              "    }\n",
              "\n",
              "    .dataframe thead th {\n",
              "        text-align: right;\n",
              "    }\n",
              "</style>\n",
              "<table border=\"1\" class=\"dataframe\">\n",
              "  <thead>\n",
              "    <tr style=\"text-align: right;\">\n",
              "      <th></th>\n",
              "      <th>0</th>\n",
              "      <th>1</th>\n",
              "      <th>2</th>\n",
              "      <th>3</th>\n",
              "      <th>4</th>\n",
              "      <th>5</th>\n",
              "      <th>6</th>\n",
              "      <th>7</th>\n",
              "      <th>8</th>\n",
              "      <th>9</th>\n",
              "      <th>10</th>\n",
              "      <th>11</th>\n",
              "      <th>12</th>\n",
              "      <th>13</th>\n",
              "      <th>14</th>\n",
              "      <th>15</th>\n",
              "      <th>16</th>\n",
              "      <th>17</th>\n",
              "      <th>18</th>\n",
              "      <th>19</th>\n",
              "      <th>20</th>\n",
              "      <th>21</th>\n",
              "      <th>22</th>\n",
              "      <th>23</th>\n",
              "      <th>24</th>\n",
              "      <th>25</th>\n",
              "      <th>26</th>\n",
              "      <th>27</th>\n",
              "      <th>28</th>\n",
              "      <th>29</th>\n",
              "      <th>30</th>\n",
              "      <th>31</th>\n",
              "      <th>32</th>\n",
              "      <th>33</th>\n",
              "      <th>34</th>\n",
              "      <th>35</th>\n",
              "      <th>36</th>\n",
              "      <th>37</th>\n",
              "      <th>38</th>\n",
              "      <th>39</th>\n",
              "      <th>...</th>\n",
              "      <th>67461</th>\n",
              "      <th>67462</th>\n",
              "      <th>67463</th>\n",
              "      <th>67464</th>\n",
              "      <th>67465</th>\n",
              "      <th>67466</th>\n",
              "      <th>67467</th>\n",
              "      <th>67468</th>\n",
              "      <th>67469</th>\n",
              "      <th>67470</th>\n",
              "      <th>67471</th>\n",
              "      <th>67472</th>\n",
              "      <th>67473</th>\n",
              "      <th>67474</th>\n",
              "      <th>67475</th>\n",
              "      <th>67476</th>\n",
              "      <th>67477</th>\n",
              "      <th>67478</th>\n",
              "      <th>67479</th>\n",
              "      <th>67480</th>\n",
              "      <th>67481</th>\n",
              "      <th>67482</th>\n",
              "      <th>67483</th>\n",
              "      <th>67484</th>\n",
              "      <th>67485</th>\n",
              "      <th>67486</th>\n",
              "      <th>67487</th>\n",
              "      <th>67488</th>\n",
              "      <th>67489</th>\n",
              "      <th>67490</th>\n",
              "      <th>67491</th>\n",
              "      <th>67492</th>\n",
              "      <th>67493</th>\n",
              "      <th>67494</th>\n",
              "      <th>67495</th>\n",
              "      <th>67496</th>\n",
              "      <th>67497</th>\n",
              "      <th>67498</th>\n",
              "      <th>67499</th>\n",
              "      <th>Target</th>\n",
              "    </tr>\n",
              "  </thead>\n",
              "  <tbody>\n",
              "    <tr>\n",
              "      <th>0</th>\n",
              "      <td>0.719525</td>\n",
              "      <td>0.842009</td>\n",
              "      <td>0.736340</td>\n",
              "      <td>0.787843</td>\n",
              "      <td>0.872667</td>\n",
              "      <td>0.778824</td>\n",
              "      <td>0.815686</td>\n",
              "      <td>0.888780</td>\n",
              "      <td>0.796078</td>\n",
              "      <td>0.806405</td>\n",
              "      <td>0.879477</td>\n",
              "      <td>0.780336</td>\n",
              "      <td>0.769412</td>\n",
              "      <td>0.844745</td>\n",
              "      <td>0.741961</td>\n",
              "      <td>0.724710</td>\n",
              "      <td>0.809281</td>\n",
              "      <td>0.707320</td>\n",
              "      <td>0.671895</td>\n",
              "      <td>0.765882</td>\n",
              "      <td>0.663922</td>\n",
              "      <td>0.626405</td>\n",
              "      <td>0.716601</td>\n",
              "      <td>0.612680</td>\n",
              "      <td>0.569150</td>\n",
              "      <td>0.671242</td>\n",
              "      <td>0.525752</td>\n",
              "      <td>0.523660</td>\n",
              "      <td>0.639608</td>\n",
              "      <td>0.440784</td>\n",
              "      <td>0.473333</td>\n",
              "      <td>0.603229</td>\n",
              "      <td>0.363137</td>\n",
              "      <td>0.423922</td>\n",
              "      <td>0.574322</td>\n",
              "      <td>0.294845</td>\n",
              "      <td>0.368758</td>\n",
              "      <td>0.539455</td>\n",
              "      <td>0.218584</td>\n",
              "      <td>0.329673</td>\n",
              "      <td>...</td>\n",
              "      <td>0.374815</td>\n",
              "      <td>0.301068</td>\n",
              "      <td>0.258845</td>\n",
              "      <td>0.391913</td>\n",
              "      <td>0.307207</td>\n",
              "      <td>0.265900</td>\n",
              "      <td>0.403660</td>\n",
              "      <td>0.286797</td>\n",
              "      <td>0.252327</td>\n",
              "      <td>0.385752</td>\n",
              "      <td>0.234118</td>\n",
              "      <td>0.204963</td>\n",
              "      <td>0.404837</td>\n",
              "      <td>0.250749</td>\n",
              "      <td>0.224314</td>\n",
              "      <td>0.415229</td>\n",
              "      <td>0.279477</td>\n",
              "      <td>0.243725</td>\n",
              "      <td>0.460946</td>\n",
              "      <td>0.326536</td>\n",
              "      <td>0.271634</td>\n",
              "      <td>0.485887</td>\n",
              "      <td>0.342880</td>\n",
              "      <td>0.269281</td>\n",
              "      <td>0.479216</td>\n",
              "      <td>0.344967</td>\n",
              "      <td>0.226052</td>\n",
              "      <td>0.486780</td>\n",
              "      <td>0.348946</td>\n",
              "      <td>0.264240</td>\n",
              "      <td>0.468497</td>\n",
              "      <td>0.346819</td>\n",
              "      <td>0.312288</td>\n",
              "      <td>0.453739</td>\n",
              "      <td>0.326039</td>\n",
              "      <td>0.278706</td>\n",
              "      <td>0.500048</td>\n",
              "      <td>0.372941</td>\n",
              "      <td>0.321046</td>\n",
              "      <td>0</td>\n",
              "    </tr>\n",
              "    <tr>\n",
              "      <th>1</th>\n",
              "      <td>0.383497</td>\n",
              "      <td>0.435294</td>\n",
              "      <td>0.150327</td>\n",
              "      <td>0.388235</td>\n",
              "      <td>0.443464</td>\n",
              "      <td>0.149673</td>\n",
              "      <td>0.392157</td>\n",
              "      <td>0.453268</td>\n",
              "      <td>0.149020</td>\n",
              "      <td>0.400980</td>\n",
              "      <td>0.463072</td>\n",
              "      <td>0.163562</td>\n",
              "      <td>0.419444</td>\n",
              "      <td>0.479085</td>\n",
              "      <td>0.205065</td>\n",
              "      <td>0.456046</td>\n",
              "      <td>0.514216</td>\n",
              "      <td>0.259967</td>\n",
              "      <td>0.478268</td>\n",
              "      <td>0.539706</td>\n",
              "      <td>0.368954</td>\n",
              "      <td>0.472549</td>\n",
              "      <td>0.557680</td>\n",
              "      <td>0.442484</td>\n",
              "      <td>0.453595</td>\n",
              "      <td>0.568627</td>\n",
              "      <td>0.468464</td>\n",
              "      <td>0.436111</td>\n",
              "      <td>0.569771</td>\n",
              "      <td>0.462418</td>\n",
              "      <td>0.444935</td>\n",
              "      <td>0.578431</td>\n",
              "      <td>0.416667</td>\n",
              "      <td>0.471569</td>\n",
              "      <td>0.583987</td>\n",
              "      <td>0.354902</td>\n",
              "      <td>0.501797</td>\n",
              "      <td>0.597712</td>\n",
              "      <td>0.323529</td>\n",
              "      <td>0.492974</td>\n",
              "      <td>...</td>\n",
              "      <td>0.283333</td>\n",
              "      <td>0.369281</td>\n",
              "      <td>0.089869</td>\n",
              "      <td>0.196569</td>\n",
              "      <td>0.370098</td>\n",
              "      <td>0.025163</td>\n",
              "      <td>0.155882</td>\n",
              "      <td>0.373039</td>\n",
              "      <td>0.012255</td>\n",
              "      <td>0.149346</td>\n",
              "      <td>0.376307</td>\n",
              "      <td>0.022386</td>\n",
              "      <td>0.141667</td>\n",
              "      <td>0.382026</td>\n",
              "      <td>0.021242</td>\n",
              "      <td>0.174673</td>\n",
              "      <td>0.399346</td>\n",
              "      <td>0.091993</td>\n",
              "      <td>0.261928</td>\n",
              "      <td>0.514052</td>\n",
              "      <td>0.186601</td>\n",
              "      <td>0.387582</td>\n",
              "      <td>0.681536</td>\n",
              "      <td>0.273856</td>\n",
              "      <td>0.315850</td>\n",
              "      <td>0.591667</td>\n",
              "      <td>0.179902</td>\n",
              "      <td>0.133333</td>\n",
              "      <td>0.347059</td>\n",
              "      <td>0.018627</td>\n",
              "      <td>0.097876</td>\n",
              "      <td>0.303595</td>\n",
              "      <td>0.006863</td>\n",
              "      <td>0.082680</td>\n",
              "      <td>0.293791</td>\n",
              "      <td>0.000000</td>\n",
              "      <td>0.090523</td>\n",
              "      <td>0.298693</td>\n",
              "      <td>0.000817</td>\n",
              "      <td>0</td>\n",
              "    </tr>\n",
              "    <tr>\n",
              "      <th>2</th>\n",
              "      <td>0.803922</td>\n",
              "      <td>0.874510</td>\n",
              "      <td>0.960784</td>\n",
              "      <td>0.807843</td>\n",
              "      <td>0.878431</td>\n",
              "      <td>0.964706</td>\n",
              "      <td>0.811765</td>\n",
              "      <td>0.878431</td>\n",
              "      <td>0.964706</td>\n",
              "      <td>0.811765</td>\n",
              "      <td>0.882353</td>\n",
              "      <td>0.952941</td>\n",
              "      <td>0.817647</td>\n",
              "      <td>0.884314</td>\n",
              "      <td>0.954902</td>\n",
              "      <td>0.823529</td>\n",
              "      <td>0.890196</td>\n",
              "      <td>0.956863</td>\n",
              "      <td>0.823529</td>\n",
              "      <td>0.890196</td>\n",
              "      <td>0.956863</td>\n",
              "      <td>0.825490</td>\n",
              "      <td>0.892157</td>\n",
              "      <td>0.956863</td>\n",
              "      <td>0.827451</td>\n",
              "      <td>0.894118</td>\n",
              "      <td>0.956863</td>\n",
              "      <td>0.827451</td>\n",
              "      <td>0.894118</td>\n",
              "      <td>0.956863</td>\n",
              "      <td>0.831373</td>\n",
              "      <td>0.898039</td>\n",
              "      <td>0.960784</td>\n",
              "      <td>0.831373</td>\n",
              "      <td>0.898039</td>\n",
              "      <td>0.960784</td>\n",
              "      <td>0.835294</td>\n",
              "      <td>0.901961</td>\n",
              "      <td>0.964706</td>\n",
              "      <td>0.835294</td>\n",
              "      <td>...</td>\n",
              "      <td>0.019608</td>\n",
              "      <td>0.168627</td>\n",
              "      <td>0.207190</td>\n",
              "      <td>0.012418</td>\n",
              "      <td>0.176471</td>\n",
              "      <td>0.228105</td>\n",
              "      <td>0.015686</td>\n",
              "      <td>0.186275</td>\n",
              "      <td>0.239216</td>\n",
              "      <td>0.011765</td>\n",
              "      <td>0.188235</td>\n",
              "      <td>0.243137</td>\n",
              "      <td>0.011765</td>\n",
              "      <td>0.192157</td>\n",
              "      <td>0.247059</td>\n",
              "      <td>0.011765</td>\n",
              "      <td>0.192157</td>\n",
              "      <td>0.250980</td>\n",
              "      <td>0.018954</td>\n",
              "      <td>0.200000</td>\n",
              "      <td>0.258170</td>\n",
              "      <td>0.019608</td>\n",
              "      <td>0.207843</td>\n",
              "      <td>0.262745</td>\n",
              "      <td>0.019608</td>\n",
              "      <td>0.215686</td>\n",
              "      <td>0.272549</td>\n",
              "      <td>0.019608</td>\n",
              "      <td>0.222876</td>\n",
              "      <td>0.286275</td>\n",
              "      <td>0.023529</td>\n",
              "      <td>0.227451</td>\n",
              "      <td>0.298039</td>\n",
              "      <td>0.023529</td>\n",
              "      <td>0.227451</td>\n",
              "      <td>0.298039</td>\n",
              "      <td>0.023529</td>\n",
              "      <td>0.231373</td>\n",
              "      <td>0.301961</td>\n",
              "      <td>0</td>\n",
              "    </tr>\n",
              "    <tr>\n",
              "      <th>3</th>\n",
              "      <td>1.000000</td>\n",
              "      <td>1.000000</td>\n",
              "      <td>1.000000</td>\n",
              "      <td>1.000000</td>\n",
              "      <td>1.000000</td>\n",
              "      <td>1.000000</td>\n",
              "      <td>1.000000</td>\n",
              "      <td>1.000000</td>\n",
              "      <td>1.000000</td>\n",
              "      <td>1.000000</td>\n",
              "      <td>1.000000</td>\n",
              "      <td>1.000000</td>\n",
              "      <td>1.000000</td>\n",
              "      <td>1.000000</td>\n",
              "      <td>1.000000</td>\n",
              "      <td>1.000000</td>\n",
              "      <td>1.000000</td>\n",
              "      <td>1.000000</td>\n",
              "      <td>1.000000</td>\n",
              "      <td>1.000000</td>\n",
              "      <td>1.000000</td>\n",
              "      <td>1.000000</td>\n",
              "      <td>1.000000</td>\n",
              "      <td>1.000000</td>\n",
              "      <td>1.000000</td>\n",
              "      <td>1.000000</td>\n",
              "      <td>1.000000</td>\n",
              "      <td>1.000000</td>\n",
              "      <td>1.000000</td>\n",
              "      <td>1.000000</td>\n",
              "      <td>1.000000</td>\n",
              "      <td>1.000000</td>\n",
              "      <td>1.000000</td>\n",
              "      <td>1.000000</td>\n",
              "      <td>1.000000</td>\n",
              "      <td>1.000000</td>\n",
              "      <td>1.000000</td>\n",
              "      <td>1.000000</td>\n",
              "      <td>1.000000</td>\n",
              "      <td>1.000000</td>\n",
              "      <td>...</td>\n",
              "      <td>1.000000</td>\n",
              "      <td>1.000000</td>\n",
              "      <td>1.000000</td>\n",
              "      <td>1.000000</td>\n",
              "      <td>1.000000</td>\n",
              "      <td>1.000000</td>\n",
              "      <td>1.000000</td>\n",
              "      <td>1.000000</td>\n",
              "      <td>1.000000</td>\n",
              "      <td>1.000000</td>\n",
              "      <td>1.000000</td>\n",
              "      <td>1.000000</td>\n",
              "      <td>1.000000</td>\n",
              "      <td>1.000000</td>\n",
              "      <td>1.000000</td>\n",
              "      <td>1.000000</td>\n",
              "      <td>1.000000</td>\n",
              "      <td>1.000000</td>\n",
              "      <td>1.000000</td>\n",
              "      <td>1.000000</td>\n",
              "      <td>1.000000</td>\n",
              "      <td>1.000000</td>\n",
              "      <td>1.000000</td>\n",
              "      <td>1.000000</td>\n",
              "      <td>1.000000</td>\n",
              "      <td>1.000000</td>\n",
              "      <td>1.000000</td>\n",
              "      <td>1.000000</td>\n",
              "      <td>1.000000</td>\n",
              "      <td>1.000000</td>\n",
              "      <td>1.000000</td>\n",
              "      <td>1.000000</td>\n",
              "      <td>1.000000</td>\n",
              "      <td>1.000000</td>\n",
              "      <td>1.000000</td>\n",
              "      <td>1.000000</td>\n",
              "      <td>1.000000</td>\n",
              "      <td>1.000000</td>\n",
              "      <td>1.000000</td>\n",
              "      <td>0</td>\n",
              "    </tr>\n",
              "    <tr>\n",
              "      <th>4</th>\n",
              "      <td>1.000000</td>\n",
              "      <td>1.000000</td>\n",
              "      <td>1.000000</td>\n",
              "      <td>1.000000</td>\n",
              "      <td>1.000000</td>\n",
              "      <td>1.000000</td>\n",
              "      <td>1.000000</td>\n",
              "      <td>1.000000</td>\n",
              "      <td>1.000000</td>\n",
              "      <td>1.000000</td>\n",
              "      <td>1.000000</td>\n",
              "      <td>1.000000</td>\n",
              "      <td>1.000000</td>\n",
              "      <td>1.000000</td>\n",
              "      <td>1.000000</td>\n",
              "      <td>1.000000</td>\n",
              "      <td>1.000000</td>\n",
              "      <td>1.000000</td>\n",
              "      <td>1.000000</td>\n",
              "      <td>1.000000</td>\n",
              "      <td>1.000000</td>\n",
              "      <td>1.000000</td>\n",
              "      <td>1.000000</td>\n",
              "      <td>1.000000</td>\n",
              "      <td>1.000000</td>\n",
              "      <td>1.000000</td>\n",
              "      <td>1.000000</td>\n",
              "      <td>1.000000</td>\n",
              "      <td>1.000000</td>\n",
              "      <td>1.000000</td>\n",
              "      <td>1.000000</td>\n",
              "      <td>1.000000</td>\n",
              "      <td>1.000000</td>\n",
              "      <td>1.000000</td>\n",
              "      <td>1.000000</td>\n",
              "      <td>1.000000</td>\n",
              "      <td>1.000000</td>\n",
              "      <td>1.000000</td>\n",
              "      <td>1.000000</td>\n",
              "      <td>1.000000</td>\n",
              "      <td>...</td>\n",
              "      <td>1.000000</td>\n",
              "      <td>1.000000</td>\n",
              "      <td>1.000000</td>\n",
              "      <td>1.000000</td>\n",
              "      <td>1.000000</td>\n",
              "      <td>1.000000</td>\n",
              "      <td>1.000000</td>\n",
              "      <td>1.000000</td>\n",
              "      <td>1.000000</td>\n",
              "      <td>1.000000</td>\n",
              "      <td>1.000000</td>\n",
              "      <td>1.000000</td>\n",
              "      <td>1.000000</td>\n",
              "      <td>1.000000</td>\n",
              "      <td>1.000000</td>\n",
              "      <td>1.000000</td>\n",
              "      <td>1.000000</td>\n",
              "      <td>1.000000</td>\n",
              "      <td>1.000000</td>\n",
              "      <td>1.000000</td>\n",
              "      <td>1.000000</td>\n",
              "      <td>1.000000</td>\n",
              "      <td>1.000000</td>\n",
              "      <td>1.000000</td>\n",
              "      <td>1.000000</td>\n",
              "      <td>1.000000</td>\n",
              "      <td>1.000000</td>\n",
              "      <td>1.000000</td>\n",
              "      <td>1.000000</td>\n",
              "      <td>1.000000</td>\n",
              "      <td>1.000000</td>\n",
              "      <td>1.000000</td>\n",
              "      <td>1.000000</td>\n",
              "      <td>1.000000</td>\n",
              "      <td>1.000000</td>\n",
              "      <td>1.000000</td>\n",
              "      <td>1.000000</td>\n",
              "      <td>1.000000</td>\n",
              "      <td>1.000000</td>\n",
              "      <td>0</td>\n",
              "    </tr>\n",
              "    <tr>\n",
              "      <th>...</th>\n",
              "      <td>...</td>\n",
              "      <td>...</td>\n",
              "      <td>...</td>\n",
              "      <td>...</td>\n",
              "      <td>...</td>\n",
              "      <td>...</td>\n",
              "      <td>...</td>\n",
              "      <td>...</td>\n",
              "      <td>...</td>\n",
              "      <td>...</td>\n",
              "      <td>...</td>\n",
              "      <td>...</td>\n",
              "      <td>...</td>\n",
              "      <td>...</td>\n",
              "      <td>...</td>\n",
              "      <td>...</td>\n",
              "      <td>...</td>\n",
              "      <td>...</td>\n",
              "      <td>...</td>\n",
              "      <td>...</td>\n",
              "      <td>...</td>\n",
              "      <td>...</td>\n",
              "      <td>...</td>\n",
              "      <td>...</td>\n",
              "      <td>...</td>\n",
              "      <td>...</td>\n",
              "      <td>...</td>\n",
              "      <td>...</td>\n",
              "      <td>...</td>\n",
              "      <td>...</td>\n",
              "      <td>...</td>\n",
              "      <td>...</td>\n",
              "      <td>...</td>\n",
              "      <td>...</td>\n",
              "      <td>...</td>\n",
              "      <td>...</td>\n",
              "      <td>...</td>\n",
              "      <td>...</td>\n",
              "      <td>...</td>\n",
              "      <td>...</td>\n",
              "      <td>...</td>\n",
              "      <td>...</td>\n",
              "      <td>...</td>\n",
              "      <td>...</td>\n",
              "      <td>...</td>\n",
              "      <td>...</td>\n",
              "      <td>...</td>\n",
              "      <td>...</td>\n",
              "      <td>...</td>\n",
              "      <td>...</td>\n",
              "      <td>...</td>\n",
              "      <td>...</td>\n",
              "      <td>...</td>\n",
              "      <td>...</td>\n",
              "      <td>...</td>\n",
              "      <td>...</td>\n",
              "      <td>...</td>\n",
              "      <td>...</td>\n",
              "      <td>...</td>\n",
              "      <td>...</td>\n",
              "      <td>...</td>\n",
              "      <td>...</td>\n",
              "      <td>...</td>\n",
              "      <td>...</td>\n",
              "      <td>...</td>\n",
              "      <td>...</td>\n",
              "      <td>...</td>\n",
              "      <td>...</td>\n",
              "      <td>...</td>\n",
              "      <td>...</td>\n",
              "      <td>...</td>\n",
              "      <td>...</td>\n",
              "      <td>...</td>\n",
              "      <td>...</td>\n",
              "      <td>...</td>\n",
              "      <td>...</td>\n",
              "      <td>...</td>\n",
              "      <td>...</td>\n",
              "      <td>...</td>\n",
              "      <td>...</td>\n",
              "      <td>...</td>\n",
              "    </tr>\n",
              "    <tr>\n",
              "      <th>85</th>\n",
              "      <td>0.603922</td>\n",
              "      <td>0.850980</td>\n",
              "      <td>0.917647</td>\n",
              "      <td>0.603922</td>\n",
              "      <td>0.850980</td>\n",
              "      <td>0.917647</td>\n",
              "      <td>0.603922</td>\n",
              "      <td>0.850980</td>\n",
              "      <td>0.917647</td>\n",
              "      <td>0.603922</td>\n",
              "      <td>0.850980</td>\n",
              "      <td>0.917647</td>\n",
              "      <td>0.603922</td>\n",
              "      <td>0.850980</td>\n",
              "      <td>0.917647</td>\n",
              "      <td>0.603922</td>\n",
              "      <td>0.850980</td>\n",
              "      <td>0.917647</td>\n",
              "      <td>0.603922</td>\n",
              "      <td>0.850980</td>\n",
              "      <td>0.917647</td>\n",
              "      <td>0.603922</td>\n",
              "      <td>0.850980</td>\n",
              "      <td>0.917647</td>\n",
              "      <td>0.603922</td>\n",
              "      <td>0.850980</td>\n",
              "      <td>0.917647</td>\n",
              "      <td>0.603922</td>\n",
              "      <td>0.850980</td>\n",
              "      <td>0.917647</td>\n",
              "      <td>0.603922</td>\n",
              "      <td>0.850980</td>\n",
              "      <td>0.917647</td>\n",
              "      <td>0.603922</td>\n",
              "      <td>0.850980</td>\n",
              "      <td>0.917647</td>\n",
              "      <td>0.603922</td>\n",
              "      <td>0.850980</td>\n",
              "      <td>0.917647</td>\n",
              "      <td>0.603922</td>\n",
              "      <td>...</td>\n",
              "      <td>1.000000</td>\n",
              "      <td>1.000000</td>\n",
              "      <td>1.000000</td>\n",
              "      <td>1.000000</td>\n",
              "      <td>1.000000</td>\n",
              "      <td>1.000000</td>\n",
              "      <td>1.000000</td>\n",
              "      <td>1.000000</td>\n",
              "      <td>1.000000</td>\n",
              "      <td>1.000000</td>\n",
              "      <td>1.000000</td>\n",
              "      <td>1.000000</td>\n",
              "      <td>1.000000</td>\n",
              "      <td>1.000000</td>\n",
              "      <td>1.000000</td>\n",
              "      <td>1.000000</td>\n",
              "      <td>1.000000</td>\n",
              "      <td>1.000000</td>\n",
              "      <td>1.000000</td>\n",
              "      <td>1.000000</td>\n",
              "      <td>1.000000</td>\n",
              "      <td>1.000000</td>\n",
              "      <td>1.000000</td>\n",
              "      <td>1.000000</td>\n",
              "      <td>1.000000</td>\n",
              "      <td>1.000000</td>\n",
              "      <td>1.000000</td>\n",
              "      <td>1.000000</td>\n",
              "      <td>1.000000</td>\n",
              "      <td>1.000000</td>\n",
              "      <td>1.000000</td>\n",
              "      <td>1.000000</td>\n",
              "      <td>1.000000</td>\n",
              "      <td>1.000000</td>\n",
              "      <td>1.000000</td>\n",
              "      <td>1.000000</td>\n",
              "      <td>1.000000</td>\n",
              "      <td>1.000000</td>\n",
              "      <td>1.000000</td>\n",
              "      <td>2</td>\n",
              "    </tr>\n",
              "    <tr>\n",
              "      <th>86</th>\n",
              "      <td>0.051618</td>\n",
              "      <td>0.067305</td>\n",
              "      <td>0.059461</td>\n",
              "      <td>0.028648</td>\n",
              "      <td>0.048256</td>\n",
              "      <td>0.035739</td>\n",
              "      <td>0.024784</td>\n",
              "      <td>0.043556</td>\n",
              "      <td>0.028288</td>\n",
              "      <td>0.144037</td>\n",
              "      <td>0.160031</td>\n",
              "      <td>0.147875</td>\n",
              "      <td>0.141678</td>\n",
              "      <td>0.154369</td>\n",
              "      <td>0.141678</td>\n",
              "      <td>0.117548</td>\n",
              "      <td>0.125391</td>\n",
              "      <td>0.121218</td>\n",
              "      <td>0.053715</td>\n",
              "      <td>0.058782</td>\n",
              "      <td>0.049793</td>\n",
              "      <td>0.065569</td>\n",
              "      <td>0.073412</td>\n",
              "      <td>0.056183</td>\n",
              "      <td>0.023529</td>\n",
              "      <td>0.031373</td>\n",
              "      <td>0.014541</td>\n",
              "      <td>0.017448</td>\n",
              "      <td>0.024706</td>\n",
              "      <td>0.007843</td>\n",
              "      <td>0.017448</td>\n",
              "      <td>0.024706</td>\n",
              "      <td>0.007843</td>\n",
              "      <td>0.012157</td>\n",
              "      <td>0.020000</td>\n",
              "      <td>0.004230</td>\n",
              "      <td>0.037804</td>\n",
              "      <td>0.045647</td>\n",
              "      <td>0.028418</td>\n",
              "      <td>0.024727</td>\n",
              "      <td>...</td>\n",
              "      <td>0.794118</td>\n",
              "      <td>0.835294</td>\n",
              "      <td>0.870588</td>\n",
              "      <td>0.784314</td>\n",
              "      <td>0.835294</td>\n",
              "      <td>0.866667</td>\n",
              "      <td>0.788235</td>\n",
              "      <td>0.839216</td>\n",
              "      <td>0.870588</td>\n",
              "      <td>0.796078</td>\n",
              "      <td>0.847059</td>\n",
              "      <td>0.878431</td>\n",
              "      <td>0.800000</td>\n",
              "      <td>0.850980</td>\n",
              "      <td>0.882353</td>\n",
              "      <td>0.800000</td>\n",
              "      <td>0.850980</td>\n",
              "      <td>0.886275</td>\n",
              "      <td>0.803922</td>\n",
              "      <td>0.854902</td>\n",
              "      <td>0.887420</td>\n",
              "      <td>0.801176</td>\n",
              "      <td>0.852157</td>\n",
              "      <td>0.887451</td>\n",
              "      <td>0.796078</td>\n",
              "      <td>0.847059</td>\n",
              "      <td>0.882353</td>\n",
              "      <td>0.803529</td>\n",
              "      <td>0.850588</td>\n",
              "      <td>0.885882</td>\n",
              "      <td>0.812601</td>\n",
              "      <td>0.850980</td>\n",
              "      <td>0.886275</td>\n",
              "      <td>0.812993</td>\n",
              "      <td>0.851373</td>\n",
              "      <td>0.886667</td>\n",
              "      <td>0.816523</td>\n",
              "      <td>0.854902</td>\n",
              "      <td>0.890196</td>\n",
              "      <td>2</td>\n",
              "    </tr>\n",
              "    <tr>\n",
              "      <th>87</th>\n",
              "      <td>0.000000</td>\n",
              "      <td>0.000000</td>\n",
              "      <td>0.830065</td>\n",
              "      <td>0.000000</td>\n",
              "      <td>0.000000</td>\n",
              "      <td>0.830065</td>\n",
              "      <td>0.000000</td>\n",
              "      <td>0.000000</td>\n",
              "      <td>0.830065</td>\n",
              "      <td>0.000000</td>\n",
              "      <td>0.000000</td>\n",
              "      <td>0.830065</td>\n",
              "      <td>0.000000</td>\n",
              "      <td>0.000000</td>\n",
              "      <td>0.830065</td>\n",
              "      <td>0.000000</td>\n",
              "      <td>0.000000</td>\n",
              "      <td>0.830065</td>\n",
              "      <td>0.000000</td>\n",
              "      <td>0.000000</td>\n",
              "      <td>0.830065</td>\n",
              "      <td>0.007843</td>\n",
              "      <td>0.008824</td>\n",
              "      <td>0.831699</td>\n",
              "      <td>0.401941</td>\n",
              "      <td>0.460072</td>\n",
              "      <td>0.910915</td>\n",
              "      <td>0.719455</td>\n",
              "      <td>0.820765</td>\n",
              "      <td>0.974176</td>\n",
              "      <td>0.726122</td>\n",
              "      <td>0.828301</td>\n",
              "      <td>0.975577</td>\n",
              "      <td>0.726122</td>\n",
              "      <td>0.828301</td>\n",
              "      <td>0.975577</td>\n",
              "      <td>0.722854</td>\n",
              "      <td>0.828301</td>\n",
              "      <td>0.975577</td>\n",
              "      <td>0.722854</td>\n",
              "      <td>...</td>\n",
              "      <td>0.646024</td>\n",
              "      <td>0.686275</td>\n",
              "      <td>0.947712</td>\n",
              "      <td>0.636316</td>\n",
              "      <td>0.678752</td>\n",
              "      <td>0.946471</td>\n",
              "      <td>0.624183</td>\n",
              "      <td>0.667170</td>\n",
              "      <td>0.944612</td>\n",
              "      <td>0.619150</td>\n",
              "      <td>0.658039</td>\n",
              "      <td>0.943333</td>\n",
              "      <td>0.353007</td>\n",
              "      <td>0.372549</td>\n",
              "      <td>0.894379</td>\n",
              "      <td>0.007843</td>\n",
              "      <td>0.007843</td>\n",
              "      <td>0.831373</td>\n",
              "      <td>0.000000</td>\n",
              "      <td>0.000000</td>\n",
              "      <td>0.830065</td>\n",
              "      <td>0.000000</td>\n",
              "      <td>0.000000</td>\n",
              "      <td>0.830065</td>\n",
              "      <td>0.000000</td>\n",
              "      <td>0.000000</td>\n",
              "      <td>0.830065</td>\n",
              "      <td>0.000000</td>\n",
              "      <td>0.000000</td>\n",
              "      <td>0.830065</td>\n",
              "      <td>0.000000</td>\n",
              "      <td>0.000000</td>\n",
              "      <td>0.830065</td>\n",
              "      <td>0.000000</td>\n",
              "      <td>0.000000</td>\n",
              "      <td>0.830065</td>\n",
              "      <td>0.000000</td>\n",
              "      <td>0.000000</td>\n",
              "      <td>0.830065</td>\n",
              "      <td>2</td>\n",
              "    </tr>\n",
              "    <tr>\n",
              "      <th>88</th>\n",
              "      <td>0.018475</td>\n",
              "      <td>0.005229</td>\n",
              "      <td>0.019608</td>\n",
              "      <td>0.027582</td>\n",
              "      <td>0.007974</td>\n",
              "      <td>0.023660</td>\n",
              "      <td>0.027451</td>\n",
              "      <td>0.008932</td>\n",
              "      <td>0.023529</td>\n",
              "      <td>0.020915</td>\n",
              "      <td>0.013072</td>\n",
              "      <td>0.024837</td>\n",
              "      <td>0.031373</td>\n",
              "      <td>0.010327</td>\n",
              "      <td>0.026013</td>\n",
              "      <td>0.041133</td>\n",
              "      <td>0.017603</td>\n",
              "      <td>0.033290</td>\n",
              "      <td>0.037778</td>\n",
              "      <td>0.014248</td>\n",
              "      <td>0.029935</td>\n",
              "      <td>0.031373</td>\n",
              "      <td>0.011765</td>\n",
              "      <td>0.027451</td>\n",
              "      <td>0.034336</td>\n",
              "      <td>0.011765</td>\n",
              "      <td>0.028279</td>\n",
              "      <td>0.043529</td>\n",
              "      <td>0.013072</td>\n",
              "      <td>0.039608</td>\n",
              "      <td>0.044837</td>\n",
              "      <td>0.013072</td>\n",
              "      <td>0.039739</td>\n",
              "      <td>0.039303</td>\n",
              "      <td>0.011852</td>\n",
              "      <td>0.026187</td>\n",
              "      <td>0.047277</td>\n",
              "      <td>0.012418</td>\n",
              "      <td>0.032680</td>\n",
              "      <td>0.044967</td>\n",
              "      <td>...</td>\n",
              "      <td>0.142702</td>\n",
              "      <td>0.038780</td>\n",
              "      <td>0.271678</td>\n",
              "      <td>0.133377</td>\n",
              "      <td>0.026275</td>\n",
              "      <td>0.243529</td>\n",
              "      <td>0.117255</td>\n",
              "      <td>0.024967</td>\n",
              "      <td>0.208497</td>\n",
              "      <td>0.113115</td>\n",
              "      <td>0.027451</td>\n",
              "      <td>0.187712</td>\n",
              "      <td>0.090065</td>\n",
              "      <td>0.025795</td>\n",
              "      <td>0.143878</td>\n",
              "      <td>0.079085</td>\n",
              "      <td>0.019608</td>\n",
              "      <td>0.096732</td>\n",
              "      <td>0.071895</td>\n",
              "      <td>0.019608</td>\n",
              "      <td>0.074031</td>\n",
              "      <td>0.066275</td>\n",
              "      <td>0.016993</td>\n",
              "      <td>0.075120</td>\n",
              "      <td>0.060000</td>\n",
              "      <td>0.015556</td>\n",
              "      <td>0.074248</td>\n",
              "      <td>0.047059</td>\n",
              "      <td>0.007843</td>\n",
              "      <td>0.057429</td>\n",
              "      <td>0.050980</td>\n",
              "      <td>0.010458</td>\n",
              "      <td>0.059477</td>\n",
              "      <td>0.043268</td>\n",
              "      <td>0.011765</td>\n",
              "      <td>0.048889</td>\n",
              "      <td>0.024444</td>\n",
              "      <td>0.009150</td>\n",
              "      <td>0.044619</td>\n",
              "      <td>2</td>\n",
              "    </tr>\n",
              "    <tr>\n",
              "      <th>89</th>\n",
              "      <td>0.322920</td>\n",
              "      <td>0.350048</td>\n",
              "      <td>0.350101</td>\n",
              "      <td>0.590651</td>\n",
              "      <td>0.619122</td>\n",
              "      <td>0.638925</td>\n",
              "      <td>0.730327</td>\n",
              "      <td>0.750020</td>\n",
              "      <td>0.765706</td>\n",
              "      <td>0.750758</td>\n",
              "      <td>0.782131</td>\n",
              "      <td>0.789974</td>\n",
              "      <td>0.768824</td>\n",
              "      <td>0.796275</td>\n",
              "      <td>0.804980</td>\n",
              "      <td>0.769020</td>\n",
              "      <td>0.808039</td>\n",
              "      <td>0.815882</td>\n",
              "      <td>0.784013</td>\n",
              "      <td>0.819779</td>\n",
              "      <td>0.827150</td>\n",
              "      <td>0.791039</td>\n",
              "      <td>0.827588</td>\n",
              "      <td>0.831569</td>\n",
              "      <td>0.800103</td>\n",
              "      <td>0.831373</td>\n",
              "      <td>0.831373</td>\n",
              "      <td>0.807912</td>\n",
              "      <td>0.832885</td>\n",
              "      <td>0.840797</td>\n",
              "      <td>0.819608</td>\n",
              "      <td>0.835490</td>\n",
              "      <td>0.850980</td>\n",
              "      <td>0.819608</td>\n",
              "      <td>0.843137</td>\n",
              "      <td>0.850980</td>\n",
              "      <td>0.823529</td>\n",
              "      <td>0.843137</td>\n",
              "      <td>0.854902</td>\n",
              "      <td>0.831373</td>\n",
              "      <td>...</td>\n",
              "      <td>0.756176</td>\n",
              "      <td>0.771699</td>\n",
              "      <td>0.788203</td>\n",
              "      <td>0.737255</td>\n",
              "      <td>0.776248</td>\n",
              "      <td>0.784312</td>\n",
              "      <td>0.794471</td>\n",
              "      <td>0.814784</td>\n",
              "      <td>0.825878</td>\n",
              "      <td>0.797395</td>\n",
              "      <td>0.819412</td>\n",
              "      <td>0.827324</td>\n",
              "      <td>0.784118</td>\n",
              "      <td>0.811569</td>\n",
              "      <td>0.821477</td>\n",
              "      <td>0.767255</td>\n",
              "      <td>0.787000</td>\n",
              "      <td>0.803863</td>\n",
              "      <td>0.741176</td>\n",
              "      <td>0.760809</td>\n",
              "      <td>0.788431</td>\n",
              "      <td>0.772370</td>\n",
              "      <td>0.791791</td>\n",
              "      <td>0.807673</td>\n",
              "      <td>0.811961</td>\n",
              "      <td>0.830706</td>\n",
              "      <td>0.846392</td>\n",
              "      <td>0.815490</td>\n",
              "      <td>0.839216</td>\n",
              "      <td>0.854783</td>\n",
              "      <td>0.800196</td>\n",
              "      <td>0.817993</td>\n",
              "      <td>0.839216</td>\n",
              "      <td>0.811765</td>\n",
              "      <td>0.823529</td>\n",
              "      <td>0.847059</td>\n",
              "      <td>0.811765</td>\n",
              "      <td>0.827451</td>\n",
              "      <td>0.839395</td>\n",
              "      <td>2</td>\n",
              "    </tr>\n",
              "  </tbody>\n",
              "</table>\n",
              "<p>90 rows × 67501 columns</p>\n",
              "</div>"
            ],
            "text/plain": [
              "           0         1         2  ...     67498     67499  Target\n",
              "0   0.719525  0.842009  0.736340  ...  0.372941  0.321046       0\n",
              "1   0.383497  0.435294  0.150327  ...  0.298693  0.000817       0\n",
              "2   0.803922  0.874510  0.960784  ...  0.231373  0.301961       0\n",
              "3   1.000000  1.000000  1.000000  ...  1.000000  1.000000       0\n",
              "4   1.000000  1.000000  1.000000  ...  1.000000  1.000000       0\n",
              "..       ...       ...       ...  ...       ...       ...     ...\n",
              "85  0.603922  0.850980  0.917647  ...  1.000000  1.000000       2\n",
              "86  0.051618  0.067305  0.059461  ...  0.854902  0.890196       2\n",
              "87  0.000000  0.000000  0.830065  ...  0.000000  0.830065       2\n",
              "88  0.018475  0.005229  0.019608  ...  0.009150  0.044619       2\n",
              "89  0.322920  0.350048  0.350101  ...  0.827451  0.839395       2\n",
              "\n",
              "[90 rows x 67501 columns]"
            ]
          },
          "metadata": {
            "tags": []
          },
          "execution_count": 12
        },
        {
          "output_type": "stream",
          "text": [
            "time: 149 ms (started: 2021-06-16 10:14:20 +00:00)\n"
          ],
          "name": "stdout"
        }
      ]
    },
    {
      "cell_type": "code",
      "metadata": {
        "colab": {
          "base_uri": "https://localhost:8080/"
        },
        "id": "Epv1YlPrWIqT",
        "outputId": "681c1987-aa0d-417b-faea-89408f79666a"
      },
      "source": [
        "PATH = DATADIR+CATEGORIES[0]+'/kiwi fruit/Image_1.jpg'"
      ],
      "execution_count": 16,
      "outputs": [
        {
          "output_type": "stream",
          "text": [
            "time: 1.63 ms (started: 2021-06-16 10:24:53 +00:00)\n"
          ],
          "name": "stdout"
        }
      ]
    },
    {
      "cell_type": "code",
      "metadata": {
        "colab": {
          "base_uri": "https://localhost:8080/",
          "height": 304
        },
        "id": "yivRtd_gWkuh",
        "outputId": "fff2f587-10ef-45e7-dfc2-863992d55df7"
      },
      "source": [
        "plt.imshow(images[-1])"
      ],
      "execution_count": 17,
      "outputs": [
        {
          "output_type": "execute_result",
          "data": {
            "text/plain": [
              "<matplotlib.image.AxesImage at 0x7f82808abb10>"
            ]
          },
          "metadata": {
            "tags": []
          },
          "execution_count": 17
        },
        {
          "output_type": "display_data",
          "data": {
            "image/png": "[encoded data removed]",
            "text/plain": [
              "<Figure size 432x288 with 1 Axes>"
            ]
          },
          "metadata": {
            "tags": [],
            "needs_background": "light"
          }
        },
        {
          "output_type": "stream",
          "text": [
            "time: 223 ms (started: 2021-06-16 10:25:18 +00:00)\n"
          ],
          "name": "stdout"
        }
      ]
    },
    {
      "cell_type": "code",
      "metadata": {
        "colab": {
          "base_uri": "https://localhost:8080/"
        },
        "id": "jBtXA0CyUV7e",
        "outputId": "f04e90ef-df8d-4572-82a8-a474dddc086a"
      },
      "source": [
        "target"
      ],
      "execution_count": 13,
      "outputs": [
        {
          "output_type": "execute_result",
          "data": {
            "text/plain": [
              "array([0, 0, 0, 0, 0, 0, 0, 0, 0, 0, 0, 0, 0, 0, 0, 0, 0, 0, 0, 0, 0, 0,\n",
              "       0, 0, 0, 0, 0, 0, 0, 0, 1, 1, 1, 1, 1, 1, 1, 1, 1, 1, 1, 1, 1, 1,\n",
              "       1, 1, 1, 1, 1, 1, 1, 1, 1, 1, 1, 1, 1, 1, 1, 1, 2, 2, 2, 2, 2, 2,\n",
              "       2, 2, 2, 2, 2, 2, 2, 2, 2, 2, 2, 2, 2, 2, 2, 2, 2, 2, 2, 2, 2, 2,\n",
              "       2, 2])"
            ]
          },
          "metadata": {
            "tags": []
          },
          "execution_count": 13
        },
        {
          "output_type": "stream",
          "text": [
            "time: 8.11 ms (started: 2021-06-16 10:15:21 +00:00)\n"
          ],
          "name": "stdout"
        }
      ]
    },
    {
      "cell_type": "code",
      "metadata": {
        "colab": {
          "base_uri": "https://localhost:8080/",
          "height": 300
        },
        "id": "swjgpVNsUapC",
        "outputId": "dd5c1f06-19b3-472b-a05d-e3d1bef5c3d1"
      },
      "source": [
        "unique,count = np.unique(target,return_counts=True)\n",
        "plt.bar(CATEGORIES,count)"
      ],
      "execution_count": 14,
      "outputs": [
        {
          "output_type": "execute_result",
          "data": {
            "text/plain": [
              "<BarContainer object of 3 artists>"
            ]
          },
          "metadata": {
            "tags": []
          },
          "execution_count": 14
        },
        {
          "output_type": "display_data",
          "data": {
            "image/png": "[encoded data removed]",
            "text/plain": [
              "<Figure size 432x288 with 1 Axes>"
            ]
          },
          "metadata": {
            "tags": [],
            "needs_background": "light"
          }
        },
        {
          "output_type": "stream",
          "text": [
            "time: 170 ms (started: 2021-06-16 10:16:41 +00:00)\n"
          ],
          "name": "stdout"
        }
      ]
    },
    {
      "cell_type": "code",
      "metadata": {
        "colab": {
          "base_uri": "https://localhost:8080/"
        },
        "id": "vb9ySQLGW7N7",
        "outputId": "6b780b6d-8ce1-49a7-96ca-19564aa60ed9"
      },
      "source": [
        "x = flat_data\n",
        "y = target"
      ],
      "execution_count": 18,
      "outputs": [
        {
          "output_type": "stream",
          "text": [
            "time: 1.54 ms (started: 2021-06-16 10:26:57 +00:00)\n"
          ],
          "name": "stdout"
        }
      ]
    },
    {
      "cell_type": "code",
      "metadata": {
        "colab": {
          "base_uri": "https://localhost:8080/"
        },
        "id": "ZC6REPG4UxaA",
        "outputId": "a26e5576-ccfb-434d-c466-322e0fb16f56"
      },
      "source": [
        "#Split data into Training and testing\n",
        "from sklearn.model_selection import train_test_split\n",
        "x_train,x_test,y_train,y_test = train_test_split(flat_data,target,test_size=0.3,random_state=109)\n",
        "print(x_train.shape)\n",
        "print(x_test.shape)"
      ],
      "execution_count": 19,
      "outputs": [
        {
          "output_type": "stream",
          "text": [
            "(63, 67500)\n",
            "(27, 67500)\n",
            "time: 35.2 ms (started: 2021-06-16 10:27:31 +00:00)\n"
          ],
          "name": "stdout"
        }
      ]
    },
    {
      "cell_type": "code",
      "metadata": {
        "colab": {
          "base_uri": "https://localhost:8080/"
        },
        "id": "7sqV6_NLVnv_",
        "outputId": "f3e95a61-e83e-448c-9f65-24920e698baa"
      },
      "source": [
        "from sklearn.svm import SVC\n",
        "model = SVC(C=10)\n",
        "model.fit(x_train,y_train)"
      ],
      "execution_count": 20,
      "outputs": [
        {
          "output_type": "execute_result",
          "data": {
            "text/plain": [
              "SVC(C=10, break_ties=False, cache_size=200, class_weight=None, coef0=0.0,\n",
              "    decision_function_shape='ovr', degree=3, gamma='scale', kernel='rbf',\n",
              "    max_iter=-1, probability=False, random_state=None, shrinking=True,\n",
              "    tol=0.001, verbose=False)"
            ]
          },
          "metadata": {
            "tags": []
          },
          "execution_count": 20
        },
        {
          "output_type": "stream",
          "text": [
            "time: 809 ms (started: 2021-06-16 10:27:57 +00:00)\n"
          ],
          "name": "stdout"
        }
      ]
    },
    {
      "cell_type": "code",
      "metadata": {
        "colab": {
          "base_uri": "https://localhost:8080/"
        },
        "id": "sTg-mD2sXV9I",
        "outputId": "558a6073-4875-44d9-f2f7-74f9b2f3ae71"
      },
      "source": [
        "from sklearn.model_selection import GridSearchCV\n",
        "svc = SVC()\n",
        "parameters = {\n",
        "    'kernel':['linear','rbf'],\n",
        "    'C':[0.1,1,10]\n",
        "}\n",
        "cv = GridSearchCV(svc,parameters,cv = 5)\n",
        "cv.fit(x_train,y_train)\n",
        "cv.best_params_"
      ],
      "execution_count": 21,
      "outputs": [
        {
          "output_type": "execute_result",
          "data": {
            "text/plain": [
              "{'C': 10, 'kernel': 'rbf'}"
            ]
          },
          "metadata": {
            "tags": []
          },
          "execution_count": 21
        },
        {
          "output_type": "stream",
          "text": [
            "time: 14.2 s (started: 2021-06-16 10:28:30 +00:00)\n"
          ],
          "name": "stdout"
        }
      ]
    },
    {
      "cell_type": "code",
      "metadata": {
        "colab": {
          "base_uri": "https://localhost:8080/"
        },
        "id": "-S4AtF17Xc2T",
        "outputId": "6c18e634-a2a8-44d1-ac05-0f7957203d83"
      },
      "source": [
        "y_test"
      ],
      "execution_count": 22,
      "outputs": [
        {
          "output_type": "execute_result",
          "data": {
            "text/plain": [
              "array([1, 0, 1, 2, 2, 1, 0, 1, 1, 0, 1, 0, 1, 2, 2, 1, 2, 1, 0, 1, 2, 2,\n",
              "       2, 0, 0, 0, 1])"
            ]
          },
          "metadata": {
            "tags": []
          },
          "execution_count": 22
        },
        {
          "output_type": "stream",
          "text": [
            "time: 4.73 ms (started: 2021-06-16 10:28:56 +00:00)\n"
          ],
          "name": "stdout"
        }
      ]
    },
    {
      "cell_type": "code",
      "metadata": {
        "colab": {
          "base_uri": "https://localhost:8080/"
        },
        "id": "fq4z_rOUXhEb",
        "outputId": "3bba8d1d-be2d-4e56-f30f-5cd0f6772a8b"
      },
      "source": [
        "y_pred = cv.predict(x_test)\n",
        "y_pred\n"
      ],
      "execution_count": 23,
      "outputs": [
        {
          "output_type": "execute_result",
          "data": {
            "text/plain": [
              "array([1, 0, 1, 2, 2, 1, 0, 1, 1, 0, 1, 2, 1, 2, 2, 1, 0, 1, 0, 1, 2, 2,\n",
              "       2, 0, 0, 0, 1])"
            ]
          },
          "metadata": {
            "tags": []
          },
          "execution_count": 23
        },
        {
          "output_type": "stream",
          "text": [
            "time: 217 ms (started: 2021-06-16 10:29:43 +00:00)\n"
          ],
          "name": "stdout"
        }
      ]
    },
    {
      "cell_type": "code",
      "metadata": {
        "colab": {
          "base_uri": "https://localhost:8080/"
        },
        "id": "1WH9BF2JXrhr",
        "outputId": "f0907f78-b6aa-46f7-99b8-efa448c48397"
      },
      "source": [
        "y_test"
      ],
      "execution_count": 24,
      "outputs": [
        {
          "output_type": "execute_result",
          "data": {
            "text/plain": [
              "array([1, 0, 1, 2, 2, 1, 0, 1, 1, 0, 1, 0, 1, 2, 2, 1, 2, 1, 0, 1, 2, 2,\n",
              "       2, 0, 0, 0, 1])"
            ]
          },
          "metadata": {
            "tags": []
          },
          "execution_count": 24
        },
        {
          "output_type": "stream",
          "text": [
            "time: 6.04 ms (started: 2021-06-16 10:29:57 +00:00)\n"
          ],
          "name": "stdout"
        }
      ]
    },
    {
      "cell_type": "code",
      "metadata": {
        "colab": {
          "base_uri": "https://localhost:8080/"
        },
        "id": "K0bRsyw1XuVj",
        "outputId": "e922fdc4-f0bc-46f7-8df1-c8228b8924ad"
      },
      "source": [
        "from sklearn.metrics import accuracy_score,confusion_matrix\n",
        "confusion_matrix(y_pred,y_test)"
      ],
      "execution_count": 25,
      "outputs": [
        {
          "output_type": "execute_result",
          "data": {
            "text/plain": [
              "array([[ 7,  0,  1],\n",
              "       [ 0, 11,  0],\n",
              "       [ 1,  0,  7]])"
            ]
          },
          "metadata": {
            "tags": []
          },
          "execution_count": 25
        },
        {
          "output_type": "stream",
          "text": [
            "time: 10.7 ms (started: 2021-06-16 10:30:17 +00:00)\n"
          ],
          "name": "stdout"
        }
      ]
    },
    {
      "cell_type": "code",
      "metadata": {
        "colab": {
          "base_uri": "https://localhost:8080/"
        },
        "id": "rXNNWzegX22m",
        "outputId": "f6877e2d-893a-4e28-88ff-9849e87beedb"
      },
      "source": [
        "accuracy_score(y_pred,y_test)\n"
      ],
      "execution_count": 26,
      "outputs": [
        {
          "output_type": "execute_result",
          "data": {
            "text/plain": [
              "0.9259259259259259"
            ]
          },
          "metadata": {
            "tags": []
          },
          "execution_count": 26
        },
        {
          "output_type": "stream",
          "text": [
            "time: 14.7 ms (started: 2021-06-16 10:30:49 +00:00)\n"
          ],
          "name": "stdout"
        }
      ]
    },
    {
      "cell_type": "code",
      "metadata": {
        "colab": {
          "base_uri": "https://localhost:8080/"
        },
        "id": "UihtSEkSX9X5",
        "outputId": "4e5ed5e6-e728-4f50-e628-a3b270b68e3a"
      },
      "source": [
        "#save the model using the pickle lib\n",
        "import pickle\n",
        "pickle.dump(model, open('image_model.p','wb'))"
      ],
      "execution_count": 27,
      "outputs": [
        {
          "output_type": "stream",
          "text": [
            "time: 68.5 ms (started: 2021-06-16 10:31:15 +00:00)\n"
          ],
          "name": "stdout"
        }
      ]
    },
    {
      "cell_type": "code",
      "metadata": {
        "colab": {
          "base_uri": "https://localhost:8080/"
        },
        "id": "Z_6VDkblYBeQ",
        "outputId": "22daccd0-1981-48ce-b044-2baddf618301"
      },
      "source": [
        "model = pickle.load(open('image_model.p','rb'))"
      ],
      "execution_count": 28,
      "outputs": [
        {
          "output_type": "stream",
          "text": [
            "time: 40.4 ms (started: 2021-06-16 10:31:39 +00:00)\n"
          ],
          "name": "stdout"
        }
      ]
    },
    {
      "cell_type": "code",
      "metadata": {
        "colab": {
          "base_uri": "https://localhost:8080/",
          "height": 339
        },
        "id": "maY7uIPCYGU4",
        "outputId": "415c1862-29ed-420f-e6ce-31aef76a0bf7"
      },
      "source": [
        "#testing A brand new image\n",
        "flat_data = []\n",
        "url = input('enter your URL')\n",
        "img = imread(url)\n",
        "img_resized = resize(img,(150,150,3))\n",
        "flat_data.append(img_resized.flatten())\n",
        "flat_data = np.array(flat_data)\n",
        "print(img.shape)\n",
        "plt.imshow(img_resized)\n",
        "y_out = model.predict(flat_data)\n",
        "y_out = CATEGORIES[y_out[0]]\n",
        "print(f' PREDICTED OUTPUT: {y_out}')"
      ],
      "execution_count": 29,
      "outputs": [
        {
          "output_type": "stream",
          "text": [
            "enter your URLhttps://s3.ap-south-1.amazonaws.com/www.bookmyflowers.com/image/cache/catalog/new/CHRISTMAS45-1000x1000.jpg\n",
            "(1000, 1000, 3)\n",
            " PREDICTED OUTPUT: snow man\n"
          ],
          "name": "stdout"
        },
        {
          "output_type": "display_data",
          "data": {
            "image/png": "[encoded data removed]",
            "text/plain": [
              "<Figure size 432x288 with 1 Axes>"
            ]
          },
          "metadata": {
            "tags": [],
            "needs_background": "light"
          }
        },
        {
          "output_type": "stream",
          "text": [
            "time: 26.8 s (started: 2021-06-16 10:32:04 +00:00)\n"
          ],
          "name": "stdout"
        }
      ]
    }
  ]
}